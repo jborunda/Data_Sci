{
 "cells": [
  {
   "cell_type": "code",
   "execution_count": 2,
   "metadata": {},
   "outputs": [],
   "source": [
    "# The following line will import KNeighborsClassifier \"Class\"\n",
    "# KNeighborsClassifier is name of a \"sklearn class\" to perform \"KNN Classification\" \n",
    "from sklearn.neighbors import KNeighborsClassifier\n",
    "from sklearn.datasets import load_iris \n",
    "from sklearn.metrics import accuracy_score\n",
    "from sklearn.model_selection import train_test_split\n",
    "from sklearn.datasets import load_iris \n",
    "# Importing the required packages and libraries\n",
    "# we will need numpy and pandas later\n",
    "import numpy as np\n",
    "import pandas as pd\n"
   ]
  },
  {
   "cell_type": "code",
   "execution_count": 3,
   "metadata": {},
   "outputs": [],
   "source": [
    "# Running the sklearn function load_iris() to instantiate an \"object\" containing iris datset: \n",
    "iris = load_iris()\n",
    "# \"data\" attribute will return the iris dataset features:\n",
    "x = iris.data  # X will be feature matrix\n"
   ]
  },
  {
   "cell_type": "code",
   "execution_count": 4,
   "metadata": {},
   "outputs": [],
   "source": [
    "# \"target\" attribute will return the iris dataset labels \n",
    "# for the sklearn embedded iris dataset, the labels are already converted to numeric\n",
    "y = iris.target  # y will be label vector\n"
   ]
  },
  {
   "cell_type": "code",
   "execution_count": 5,
   "metadata": {},
   "outputs": [
    {
     "name": "stdout",
     "output_type": "stream",
     "text": [
      "[[5.  3.6 1.4 0.2]\n",
      " [6.5 3.  5.5 1.8]\n",
      " [4.7 3.2 1.3 0.2]\n",
      " [5.1 3.3 1.7 0.5]\n",
      " [6.3 2.7 4.9 1.8]\n",
      " [5.7 2.9 4.2 1.3]\n",
      " [6.1 2.6 5.6 1.4]\n",
      " [5.1 3.4 1.5 0.2]\n",
      " [6.4 3.1 5.5 1.8]\n",
      " [5.5 2.3 4.  1.3]\n",
      " [6.1 3.  4.9 1.8]\n",
      " [5.5 2.4 3.7 1. ]\n",
      " [6.4 3.2 5.3 2.3]\n",
      " [7.7 3.  6.1 2.3]\n",
      " [6.4 2.9 4.3 1.3]\n",
      " [6.  2.2 5.  1.5]\n",
      " [7.6 3.  6.6 2.1]\n",
      " [6.4 3.2 4.5 1.5]\n",
      " [5.8 2.6 4.  1.2]\n",
      " [5.2 4.1 1.5 0.1]\n",
      " [4.9 3.1 1.5 0.1]\n",
      " [6.9 3.2 5.7 2.3]\n",
      " [5.1 3.8 1.9 0.4]\n",
      " [5.1 3.5 1.4 0.2]\n",
      " [5.7 2.8 4.5 1.3]\n",
      " [6.3 2.5 4.9 1.5]\n",
      " [6.3 2.3 4.4 1.3]\n",
      " [7.1 3.  5.9 2.1]\n",
      " [4.8 3.1 1.6 0.2]\n",
      " [5.  2.3 3.3 1. ]\n",
      " [4.8 3.  1.4 0.3]\n",
      " [5.2 2.7 3.9 1.4]\n",
      " [5.4 3.9 1.3 0.4]\n",
      " [4.3 3.  1.1 0.1]\n",
      " [6.3 2.8 5.1 1.5]\n",
      " [6.4 2.8 5.6 2.1]\n",
      " [5.6 2.9 3.6 1.3]\n",
      " [6.3 2.5 5.  1.9]\n",
      " [5.7 3.  4.2 1.2]\n",
      " [5.  3.3 1.4 0.2]\n",
      " [5.1 3.5 1.4 0.3]\n",
      " [6.3 2.9 5.6 1.8]\n",
      " [6.1 2.8 4.  1.3]\n",
      " [5.9 3.  4.2 1.5]\n",
      " [5.1 3.8 1.6 0.2]\n",
      " [4.8 3.  1.4 0.1]\n",
      " [6.9 3.1 4.9 1.5]\n",
      " [5.2 3.5 1.5 0.2]\n",
      " [4.9 3.1 1.5 0.1]\n",
      " [6.5 2.8 4.6 1.5]\n",
      " [7.7 2.6 6.9 2.3]\n",
      " [7.7 3.8 6.7 2.2]\n",
      " [5.6 2.8 4.9 2. ]\n",
      " [4.6 3.4 1.4 0.3]\n",
      " [6.4 2.7 5.3 1.9]\n",
      " [5.7 3.8 1.7 0.3]\n",
      " [4.4 3.  1.3 0.2]\n",
      " [5.4 3.4 1.7 0.2]\n",
      " [6.6 2.9 4.6 1.3]\n",
      " [6.7 2.5 5.8 1.8]]\n",
      "\n",
      "\n",
      "[0 2 0 0 2 1 2 0 2 1 2 1 2 2 1 2 2 1 1 0 0 2 0 0 1 1 1 2 0 1 0 1 0 0 2 2 1\n",
      " 2 1 0 0 2 1 1 0 0 1 0 0 1 2 2 2 0 2 0 0 0 1 2]\n",
      "\n",
      "\n",
      "[[6.  2.7 5.1 1.6]\n",
      " [5.  2.  3.5 1. ]\n",
      " [5.7 2.8 4.1 1.3]\n",
      " [6.3 3.3 6.  2.5]\n",
      " [5.6 2.7 4.2 1.3]\n",
      " [5.6 3.  4.1 1.3]\n",
      " [4.6 3.1 1.5 0.2]\n",
      " [5.8 2.7 5.1 1.9]\n",
      " [5.8 4.  1.2 0.2]\n",
      " [4.7 3.2 1.6 0.2]\n",
      " [5.5 2.5 4.  1.3]\n",
      " [5.4 3.  4.5 1.5]\n",
      " [5.8 2.7 5.1 1.9]\n",
      " [6.4 2.8 5.6 2.2]\n",
      " [6.5 3.  5.2 2. ]\n",
      " [6.7 3.1 4.4 1.4]\n",
      " [6.1 2.8 4.7 1.2]\n",
      " [6.9 3.1 5.4 2.1]\n",
      " [7.2 3.  5.8 1.6]\n",
      " [6.2 2.9 4.3 1.3]\n",
      " [5.1 2.5 3.  1.1]\n",
      " [4.9 3.1 1.5 0.1]\n",
      " [6.5 3.  5.8 2.2]\n",
      " [6.8 3.  5.5 2.1]\n",
      " [5.1 3.7 1.5 0.4]\n",
      " [4.6 3.2 1.4 0.2]\n",
      " [5.7 2.5 5.  2. ]\n",
      " [7.9 3.8 6.4 2. ]\n",
      " [6.1 3.  4.6 1.4]\n",
      " [6.3 3.4 5.6 2.4]\n",
      " [6.8 2.8 4.8 1.4]\n",
      " [5.5 4.2 1.4 0.2]\n",
      " [6.3 3.3 4.7 1.6]\n",
      " [6.7 3.1 5.6 2.4]\n",
      " [5.5 3.5 1.3 0.2]\n",
      " [5.  3.4 1.5 0.2]\n",
      " [7.3 2.9 6.3 1.8]\n",
      " [4.4 3.2 1.3 0.2]\n",
      " [5.3 3.7 1.5 0.2]\n",
      " [4.8 3.4 1.9 0.2]\n",
      " [4.5 2.3 1.3 0.3]\n",
      " [4.6 3.6 1.  0.2]\n",
      " [5.  3.2 1.2 0.2]\n",
      " [5.8 2.7 3.9 1.2]\n",
      " [6.9 3.1 5.1 2.3]\n",
      " [4.8 3.4 1.6 0.2]\n",
      " [7.7 2.8 6.7 2. ]\n",
      " [5.8 2.7 4.1 1. ]\n",
      " [5.4 3.7 1.5 0.2]\n",
      " [6.7 3.3 5.7 2.1]\n",
      " [5.5 2.6 4.4 1.2]\n",
      " [6.7 3.  5.2 2.3]\n",
      " [5.9 3.2 4.8 1.8]\n",
      " [5.6 2.5 3.9 1.1]\n",
      " [5.  3.5 1.3 0.3]\n",
      " [6.  2.9 4.5 1.5]\n",
      " [5.9 3.  5.1 1.8]\n",
      " [7.  3.2 4.7 1.4]\n",
      " [5.4 3.9 1.7 0.4]\n",
      " [4.9 2.4 3.3 1. ]\n",
      " [5.  3.5 1.6 0.6]\n",
      " [5.2 3.4 1.4 0.2]\n",
      " [6.  3.4 4.5 1.6]\n",
      " [5.1 3.8 1.5 0.3]\n",
      " [6.1 2.9 4.7 1.4]\n",
      " [6.2 2.8 4.8 1.8]\n",
      " [5.6 3.  4.5 1.5]\n",
      " [6.7 3.3 5.7 2.5]\n",
      " [6.8 3.2 5.9 2.3]\n",
      " [5.8 2.8 5.1 2.4]\n",
      " [6.7 3.1 4.7 1.5]\n",
      " [5.7 4.4 1.5 0.4]\n",
      " [7.2 3.2 6.  1.8]\n",
      " [5.4 3.4 1.5 0.4]\n",
      " [7.4 2.8 6.1 1.9]\n",
      " [4.4 2.9 1.4 0.2]\n",
      " [6.2 2.2 4.5 1.5]\n",
      " [6.5 3.2 5.1 2. ]\n",
      " [5.  3.4 1.6 0.4]\n",
      " [6.7 3.  5.  1.7]\n",
      " [6.6 3.  4.4 1.4]\n",
      " [4.9 3.  1.4 0.2]\n",
      " [5.  3.  1.6 0.2]\n",
      " [6.  2.2 4.  1. ]\n",
      " [5.5 2.4 3.8 1.1]\n",
      " [6.2 3.4 5.4 2.3]\n",
      " [5.7 2.6 3.5 1. ]\n",
      " [7.2 3.6 6.1 2.5]\n",
      " [4.9 2.5 4.5 1.7]\n",
      " [6.  3.  4.8 1.8]]\n",
      "\n",
      "\n",
      "[1 1 1 2 1 1 0 2 0 0 1 1 2 2 2 1 1 2 2 1 1 0 2 2 0 0 2 2 1 2 1 0 1 2 0 0 2\n",
      " 0 0 0 0 0 0 1 2 0 2 1 0 2 1 2 1 1 0 1 2 1 0 1 0 0 1 0 1 2 1 2 2 2 1 0 2 0\n",
      " 2 0 1 2 0 1 1 0 0 1 1 2 1 2 2 2]\n"
     ]
    }
   ],
   "source": [
    "#B) We set test_size=0.4(picks 40% of data samples for testing and rest for training)\n",
    "x_train, x_test, y_train, y_test = train_test_split(x, y, test_size=0.4, random_state=6)\n",
    "print(x_test)\n",
    "print('\\n')\n",
    "print(y_test)\n",
    "print('\\n')\n",
    "print(x_train)\n",
    "print('\\n')\n",
    "print(y_train)\n"
   ]
  },
  {
   "cell_type": "code",
   "execution_count": 6,
   "metadata": {},
   "outputs": [],
   "source": [
    "# In the following line, \"knn\" is instantiated as an \"object\" of KNeighborsClassifier \"class\".\n",
    "# C) defining intial k to 3\n",
    "\n",
    "k = 3\n",
    "knn = KNeighborsClassifier(n_neighbors=k) \n"
   ]
  },
  {
   "cell_type": "code",
   "execution_count": 1,
   "metadata": {},
   "outputs": [
    {
     "ename": "NameError",
     "evalue": "name 'pd' is not defined",
     "output_type": "error",
     "traceback": [
      "\u001b[1;31m---------------------------------------------------------------------------\u001b[0m",
      "\u001b[1;31mNameError\u001b[0m                                 Traceback (most recent call last)",
      "\u001b[1;32m<ipython-input-1-b2849680a6b1>\u001b[0m in \u001b[0;36m<module>\u001b[1;34m()\u001b[0m\n\u001b[0;32m      1\u001b[0m \u001b[1;31m# A) reading the csv file directly from the web\u001b[0m\u001b[1;33m\u001b[0m\u001b[1;33m\u001b[0m\u001b[0m\n\u001b[1;32m----> 2\u001b[1;33m \u001b[0miris_df\u001b[0m \u001b[1;33m=\u001b[0m \u001b[0mpd\u001b[0m\u001b[1;33m.\u001b[0m\u001b[0mread_csv\u001b[0m\u001b[1;33m(\u001b[0m\u001b[1;34m'https://raw.githubusercontent.com/mpourhoma/CS4661/master/iris.csv'\u001b[0m\u001b[1;33m)\u001b[0m\u001b[1;33m\u001b[0m\u001b[0m\n\u001b[0m\u001b[0;32m      3\u001b[0m \u001b[0mprint\u001b[0m\u001b[1;33m(\u001b[0m\u001b[0miris_df\u001b[0m\u001b[1;33m)\u001b[0m\u001b[1;33m\u001b[0m\u001b[0m\n",
      "\u001b[1;31mNameError\u001b[0m: name 'pd' is not defined"
     ]
    }
   ],
   "source": [
    "# A) reading the csv file directly from the web\n",
    "iris_df = pd.read_csv('https://raw.githubusercontent.com/mpourhoma/CS4661/master/iris.csv')\n",
    "print(iris_df)"
   ]
  },
  {
   "cell_type": "code",
   "execution_count": 7,
   "metadata": {},
   "outputs": [
    {
     "data": {
      "text/plain": [
       "KNeighborsClassifier(algorithm='auto', leaf_size=30, metric='minkowski',\n",
       "           metric_params=None, n_jobs=1, n_neighbors=3, p=2,\n",
       "           weights='uniform')"
      ]
     },
     "execution_count": 7,
     "metadata": {},
     "output_type": "execute_result"
    }
   ],
   "source": [
    "#C) training we use :fit: on th etrainging set x_train any y..\n",
    "\n",
    "knn.fit(x_train,y_train)\n"
   ]
  },
  {
   "cell_type": "code",
   "execution_count": 8,
   "metadata": {},
   "outputs": [
    {
     "name": "stdout",
     "output_type": "stream",
     "text": [
      "[0 2 0 0 2 1 2 0 2 1 2 1 2 2 1 1 2 1 1 0 0 2 0 0 1 1 1 2 0 1 0 1 0 0 1 2 1\n",
      " 2 1 0 0 2 1 1 0 0 1 0 0 1 2 2 2 0 2 0 0 0 1 2]\n"
     ]
    }
   ],
   "source": [
    "#C) this is our testing on the testing set we use :PREDICT:\n",
    "\n",
    "y_predict = knn.predict(x_test)\n",
    "print(y_predict)"
   ]
  },
  {
   "cell_type": "code",
   "execution_count": 9,
   "metadata": {},
   "outputs": [
    {
     "name": "stdout",
     "output_type": "stream",
     "text": [
      "0.9666666666666667\n"
     ]
    }
   ],
   "source": [
    "#C) predicting the score of the accuracy \n",
    "\n",
    "accuracyScore = accuracy_score(y_test,y_predict)\n",
    "print(accuracyScore)"
   ]
  },
  {
   "cell_type": "code",
   "execution_count": 10,
   "metadata": {},
   "outputs": [
    {
     "name": "stdout",
     "output_type": "stream",
     "text": [
      "[0.95, 0.9833333333333333, 0.9666666666666667, 0.9666666666666667, 0.9333333333333333, 0.9166666666666666, 0.8166666666666667]\n"
     ]
    }
   ],
   "source": [
    "#D) use a for loop for  K=1, K=5, K=7, K=11, K=15, K=27, K=59 (\n",
    "myKList = [1,5,7,11,15,27,59]\n",
    "listOfAccuracy = []\n",
    "\n",
    "for k in myKList:\n",
    "    myListK_Object = KNeighborsClassifier(n_neighbors = k )\n",
    "    myListK_Object.fit(x_train,y_train)\n",
    "    myListK_Object.fit(x_train,y_train)\n",
    "    y_predict = myListK_Object.predict(x_test)\n",
    "    accuracyScore = accuracy_score(y_test,y_predict)\n",
    "    listOfAccuracy.insert(len(listOfAccuracy) + 1, accuracyScore)\n",
    "\n",
    "print(listOfAccuracy)\n",
    "    \n",
    "    \n",
    "#i noticed the accuracy gets lower as k goes higher"
   ]
  },
  {
   "cell_type": "code",
   "execution_count": 11,
   "metadata": {},
   "outputs": [
    {
     "name": "stdout",
     "output_type": "stream",
     "text": [
      "[1, 2, 3, 4]\n"
     ]
    }
   ],
   "source": [
    "#this is me learning list dont bother looking at this just for testing \n",
    "\n",
    "myList = [1,2,3]\n",
    "myList.insert(len(myList) + 1,4)\n",
    "print(myList)\n",
    "\n"
   ]
  },
  {
   "cell_type": "code",
   "execution_count": 12,
   "metadata": {},
   "outputs": [
    {
     "name": "stdout",
     "output_type": "stream",
     "text": [
      "{'sepal_length': 0.7166666666666667, 'sepal_width': 0.5666666666666667, 'petal_length': 0.9333333333333333, 'petal_width': 0.95}\n"
     ]
    }
   ],
   "source": [
    "#E) \n",
    "feature_cols = ['sepal_length','sepal_width','petal_length','petal_width']\n",
    "\n",
    "singleFeatureList = []\n",
    "\n",
    "#we do the same thing as before but we only testing using one feature\n",
    "for feature in feature_cols:\n",
    "    feature_cols2 = [feature]\n",
    "    new_x = iris_df[feature_cols2]  \n",
    "    # we use the same target 'y = iris.target'\n",
    "\n",
    "    x_train2, x_test2, y_train2, y_test2 = train_test_split(new_x, y, test_size=0.4, random_state=6)\n",
    "\n",
    "    \n",
    "    knnObject = KNeighborsClassifier(n_neighbors = 3)\n",
    "    knnObject.fit(x_train2,y_train2)\n",
    "    knnObject.fit(x_train2,y_train2)\n",
    "    yPredict = knnObject.predict(x_test2)\n",
    "    newAccuracyScore = accuracy_score(y_test2,yPredict)\n",
    "    singleFeatureList.insert(len(listOfAccuracy) + 1, newAccuracyScore)\n",
    "\n",
    "\n",
    "dictionaryList = dict(zip(feature_cols,singleFeatureList))    \n",
    "    \n",
    "print(dictionaryList)\n",
    "\n",
    "#conclusion pedal width has the most usefull feature \n",
    "# the second most best feature is the pedal width"
   ]
  },
  {
   "cell_type": "code",
   "execution_count": 19,
   "metadata": {},
   "outputs": [
    {
     "name": "stdout",
     "output_type": "stream",
     "text": [
      "[0.8166666666666667, 0.9833333333333333, 0.95, 0.95, 0.95, 0.9666666666666667]\n"
     ]
    }
   ],
   "source": [
    "#F)\n",
    "#feature_cols = ['sepal_length','sepal_width','petal_length','petal_width']\n",
    "feature_pairs = [['sepal_length','sepal_width'],\n",
    "                 ['sepal_length','petal_length'],\n",
    "                 ['sepal_length','petal_width'],\n",
    "                 ['sepal_width','petal_length'],\n",
    "                 ['sepal_width','petal_width'],\n",
    "                 ['petal_length','petal_width']]\n",
    "\n",
    "listValuesUsingTwoFeatures = []\n",
    "\n",
    "\n",
    "i = 0\n",
    "while (i < len(feature_pairs)):    \n",
    "    feature_pair = feature_pairs[i]\n",
    "    new_x = iris_df[feature_pair]  \n",
    "    # we use the same target 'y = iris.target'\n",
    "\n",
    "    x_train2, x_test2, y_train2, y_test2 = train_test_split(new_x, y, test_size=0.4, random_state=6)\n",
    "\n",
    "    #this is the same code reused from before to test and predict\n",
    "    knnObject = KNeighborsClassifier(n_neighbors = 3)\n",
    "    knnObject.fit(x_train2,y_train2)\n",
    "    knnObject.fit(x_train2,y_train2)\n",
    "    yPredict = knnObject.predict(x_test2)\n",
    "    newAccuracyScore = accuracy_score(y_test2,yPredict)\n",
    "    listValuesUsingTwoFeatures.insert(len(listOfAccuracy) + 1, newAccuracyScore)\n",
    "    i = i + 1\n",
    "\n",
    "print(listValuesUsingTwoFeatures)\n",
    "#F)output tells us that the petal_length and the petal_width have the most accuracy\n",
    "\n",
    "#G) we conclude that the “best two features” for classification are the first best feature along with the second best feature\n",
    "\n"
   ]
  },
  {
   "cell_type": "code",
   "execution_count": null,
   "metadata": {},
   "outputs": [],
   "source": []
  }
 ],
 "metadata": {
  "kernelspec": {
   "display_name": "Python 3",
   "language": "python",
   "name": "python3"
  },
  "language_info": {
   "codemirror_mode": {
    "name": "ipython",
    "version": 3
   },
   "file_extension": ".py",
   "mimetype": "text/x-python",
   "name": "python",
   "nbconvert_exporter": "python",
   "pygments_lexer": "ipython3",
   "version": "3.6.5"
  }
 },
 "nbformat": 4,
 "nbformat_minor": 2
}
