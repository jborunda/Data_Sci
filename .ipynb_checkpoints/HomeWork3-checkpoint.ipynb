{
 "cells": [
  {
   "cell_type": "code",
   "execution_count": 44,
   "metadata": {},
   "outputs": [],
   "source": [
    "# The following line will import LogisticRegression and DecisionTreeClassifier Classes\n",
    "\n",
    "from sklearn.linear_model import LogisticRegression\n",
    "# The following line will import KNeighborsClassifier \"Class\"\n",
    "# KNeighborsClassifier is name of a \"sklearn class\" to perform \"KNN Classification\" \n",
    "from sklearn.model_selection import train_test_split\n",
    "from sklearn.neighbors import KNeighborsClassifier\n",
    "from sklearn.tree import DecisionTreeClassifier\n",
    "from sklearn.metrics import accuracy_score\n",
    "\n",
    "\n",
    "# Importing the required packages and libraries\n",
    "# we will need numpy and pandas later\n",
    "import numpy as np\n",
    "import pandas as pd\n",
    "\n"
   ]
  },
  {
   "cell_type": "code",
   "execution_count": 47,
   "metadata": {},
   "outputs": [
    {
     "ename": "IndentationError",
     "evalue": "unexpected indent (<ipython-input-47-2e9e993dcad6>, line 11)",
     "output_type": "error",
     "traceback": [
      "\u001b[1;36m  File \u001b[1;32m\"<ipython-input-47-2e9e993dcad6>\"\u001b[1;36m, line \u001b[1;32m11\u001b[0m\n\u001b[1;33m    heartDF2[0::40]\u001b[0m\n\u001b[1;37m    ^\u001b[0m\n\u001b[1;31mIndentationError\u001b[0m\u001b[1;31m:\u001b[0m unexpected indent\n"
     ]
    }
   ],
   "source": [
    "#we want to set a csv file to pandas datafram\n",
    "\n",
    "# \"read_csv\" is a pandas function to read csv files from web or local device:\n",
    "\n",
    "heartDF = pd.read_csv('Heart_s.csv')\n",
    "#drop the NA \n",
    "heartDF.dropna()\n",
    "#we drop the non numerical values\n",
    "heartDF = heartDF.drop(['Gender','ChestPain','Thal'], axis=1)\n",
    "#display every 20\n",
    "heartDF[0::40]\n",
    "len(heartDF)"
   ]
  },
  {
   "cell_type": "code",
   "execution_count": 38,
   "metadata": {},
   "outputs": [],
   "source": [
    "#Split the dataset into testing and training sets with the following parameters:\n",
    "#test_size=0.25, random_state=4.\n",
    "list_Features = ['Age' ,'RestBP' ,'Chol' ,'RestECG' ,'MaxHR' ,'Oldpeak']\n",
    "\n",
    "#this is the attributes we wanna use\n",
    "x = heartDF2[list_Features]\n",
    "#this is our target\n",
    "y = heartDF2['AHD']\n",
    "x_train, x_test, y_train, y_test = train_test_split(x, y, test_size=0.25, random_state= 4 )"
   ]
  },
  {
   "cell_type": "code",
   "execution_count": 39,
   "metadata": {},
   "outputs": [
    {
     "name": "stdout",
     "output_type": "stream",
     "text": [
      "0.6447368421052632\n"
     ]
    }
   ],
   "source": [
    "#now we will use KNN k=3\n",
    "k = 3\n",
    "knn = KNeighborsClassifier(n_neighbors=k)\n",
    "myListK_Object = KNeighborsClassifier(n_neighbors = k )\n",
    "myListK_Object.fit(x_train,y_train)\n",
    "y_predict = myListK_Object.predict(x_test)\n",
    "accuracyScore = accuracy_score(y_test,y_predict)\n",
    "print(accuracyScore)\n"
   ]
  },
  {
   "cell_type": "code",
   "execution_count": 41,
   "metadata": {},
   "outputs": [
    {
     "name": "stdout",
     "output_type": "stream",
     "text": [
      "0.6842105263157895\n",
      "0.6710526315789473\n"
     ]
    }
   ],
   "source": [
    "#Decision Tree(with random_state=5)\n",
    "x_train, x_test, y_train, y_test = train_test_split(x, y, test_size=0.25, random_state= 5 )\n",
    "\n",
    "#we make a object from the \n",
    "logisticRegression = LogisticRegression()\n",
    "decisionTree = DecisionTreeClassifier()\n",
    "\n",
    "\n",
    "\n",
    "logisticRegression.fit(x_train, y_train)\n",
    "decisionTree.fit(x_train, y_train)\n",
    "\n",
    "y_predict_lr = my_logreg.predict(x_test)\n",
    "y_predict_dt = my_decisiontree.predict(x_test)\n",
    "\n",
    "score_lr = accuracy_score(y_test, y_predict_lr)\n",
    "score_dt = accuracy_score(y_test, y_predict_dt)\n",
    "\n",
    "print(score_lr)\n",
    "print(score_dt)"
   ]
  },
  {
   "cell_type": "code",
   "execution_count": null,
   "metadata": {},
   "outputs": [],
   "source": [
    "the lowest accuracy is KNN "
   ]
  }
 ],
 "metadata": {
  "kernelspec": {
   "display_name": "Python 3",
   "language": "python",
   "name": "python3"
  },
  "language_info": {
   "codemirror_mode": {
    "name": "ipython",
    "version": 3
   },
   "file_extension": ".py",
   "mimetype": "text/x-python",
   "name": "python",
   "nbconvert_exporter": "python",
   "pygments_lexer": "ipython3",
   "version": "3.6.5"
  }
 },
 "nbformat": 4,
 "nbformat_minor": 2
}
